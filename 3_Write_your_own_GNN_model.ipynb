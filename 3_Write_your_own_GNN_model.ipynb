{
 "cells": [
  {
   "cell_type": "code",
   "execution_count": 3,
   "metadata": {},
   "outputs": [],
   "source": [
    "import dgl\n",
    "import torch\n",
    "import torch.nn as nn\n",
    "import torch.nn.functional as F"
   ]
  },
  {
   "cell_type": "markdown",
   "metadata": {},
   "source": [
    "#### Write your own GNN module\n",
    "* Sometimes, you model goes **beyongd simply stacking existing GNN modules**. \n",
    "* For example, you can invent a **new way of aggregating neighbor information** by **considering node importance** or edge weights.\n",
    "* In the section, you will learn:\n",
    "   1. Understand DGL's message passing APIs.\n",
    "   2. Implement GraphSAGE convolution module by your own. \n",
    "* 这一节是学会搭建自己的GNN模块，自己进行细节设计，比如可以设计一个**新的Aggregation operation**等等。这一节会学习DGL里面内置的message passing APIs，即**通过消息传递实现更新**的操作。"
   ]
  },
  {
   "cell_type": "markdown",
   "metadata": {},
   "source": [
    "* 目前GNN中主要操作其实比较简单，本质上就是消息传递，然后聚合更新，在聚合更新上之前出了很多paper\n",
    "* 下面是一个NIPS'17的paper实现，dgl里面也有对应API，dgl.nn.SAGEConv"
   ]
  },
  {
   "cell_type": "code",
   "execution_count": null,
   "metadata": {},
   "outputs": [],
   "source": [
    "import dgl.function as fn\n",
    "\n",
    "class SAGEConv(nn.Module):\n",
    "    '''\n",
    "    Parameters\n",
    "    ----------\n",
    "    in_feat(int): input feature size.\n",
    "    out_feat(int): output feature size.\n",
    "    '''\n",
    "    def __init__(self, in_feat, out_feat):\n",
    "        super(SAGEConv, self).__init__()\n",
    "        # A linear submodel for projecting the input and neighbor feature to the output\n",
    "        self.linear = nn.Linear(in_feat * 2, out_feat)\n",
    "    \n",
    "    def forward(self, g, h):\n",
    "        '''\n",
    "        Parameters\n",
    "        ----------\n",
    "        g: Graph, the input graph\n",
    "        h: Tensor, the input feature\n",
    "        '''\n",
    "        with g.local_scope():\n",
    "            g.ndata['h'] = h\n",
    "            # update_all is a message passing API\n",
    "            g.update_all(message_func=fn.copy_u('h', 'm'), reduce_func=fn.mean('m', 'h_N'))\n",
    "            h_N = g.ndata['h_N']\n",
    "            h_total = torch.cat([h, h_N], dim=1)\n",
    "            return self.linear(h_total)\n",
    "    "
   ]
  },
  {
   "cell_type": "code",
   "execution_count": null,
   "metadata": {},
   "outputs": [],
   "source": []
  }
 ],
 "metadata": {
  "interpreter": {
   "hash": "a401e76bd4566b2eeae2d0101f096ff3c65dea3a493d427d71e4f6944057105a"
  },
  "kernelspec": {
   "display_name": "Python 3.8.11 ('xmz')",
   "language": "python",
   "name": "python3"
  },
  "language_info": {
   "codemirror_mode": {
    "name": "ipython",
    "version": 3
   },
   "file_extension": ".py",
   "mimetype": "text/x-python",
   "name": "python",
   "nbconvert_exporter": "python",
   "pygments_lexer": "ipython3",
   "version": "3.8.11"
  },
  "orig_nbformat": 4
 },
 "nbformat": 4,
 "nbformat_minor": 2
}
