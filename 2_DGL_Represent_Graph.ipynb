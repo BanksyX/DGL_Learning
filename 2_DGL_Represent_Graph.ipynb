{
 "cells": [
  {
   "cell_type": "markdown",
   "metadata": {},
   "source": [
    "#### How does DGL represent a graph>\n",
    "* You will master:\n",
    "   1. Construct a graph in DGL fron sratcg\n",
    "   2. Assign node and edge features to a graph\n",
    "   3. Query properties of a DGL graph such as nodes"
   ]
  },
  {
   "cell_type": "code",
   "execution_count": null,
   "metadata": {},
   "outputs": [],
   "source": []
  }
 ],
 "metadata": {
  "language_info": {
   "name": "python"
  },
  "orig_nbformat": 4
 },
 "nbformat": 4,
 "nbformat_minor": 2
}
