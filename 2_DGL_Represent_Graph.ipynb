{
 "cells": [
  {
   "cell_type": "markdown",
   "metadata": {},
   "source": [
    "#### How does DGL represent a graph\n",
    "* You will learn:\n",
    "   1. Construct a graph in DGL fron sratch\n",
    "   2. Assign node and edge features to a graph\n",
    "   3. Query properties of a DGL graph such as nodes\n",
    "   4. Transform a DGL graph into another graph\n",
    "   5. Load and save DGL graphs \n",
    "* 学会DGL里面是如何构建一个图的，也就是对DGL里面图的存储结构和属性学习"
   ]
  },
  {
   "cell_type": "markdown",
   "metadata": {},
   "source": [
    "#### DGL Graph Construction\n",
    "1. DGL represents a directed graph as a **DGLGraph object**. By specifying **the number of nodes** in the graph as well as **the list of source and destination nodes**.\n",
    "2. DGL将一个有向图表示成一个DGLGraph对象，通过指定图中定点数和源节点、目标节点列表来构架图"
   ]
  },
  {
   "cell_type": "code",
   "execution_count": 5,
   "metadata": {},
   "outputs": [],
   "source": [
    "import dgl\n",
    "import numpy as np\n",
    "import torch\n",
    "\n",
    "g = dgl.graph(([0, 0, 0, 0, 0], [1, 2, 3, 4, 5]), num_nodes=6)\n",
    "# 同样我们也可以用torch.LongTensor来作为节点列表的输入\n",
    "g = dgl.graph((torch.LongTensor([0,0,0,0,0]), torch.LongTensor([1, 2, 3, 4,5])), num_nodes=6)\n",
    "# 当然在给定了source nodes list和 destination nodes list情况下，也可以不指定num_nodes\n",
    "g = dgl.graph(([0,0,0,0,0], [1,2,3,4,5]))"
   ]
  },
  {
   "cell_type": "markdown",
   "metadata": {},
   "source": [
    "* mark一下，这里是通过输入subjects list 和 objects list两个列表来构建图对象的，这里和之前自己复现的那篇CompGCN的源码里面对图数据的最终处理方式类似，或者说这是图数据处理的常用方式吧\n",
    "* 在那篇paper的源码里面数据处理最终会得到一个 edge_inedx和edge_type，也就是边序列和边类型，二者index一一对应，edge_index是一个(num_edges * 2)的tensor，这个tensor的第0维是所有边的入点，第1维是所有边的出点，其实也就是subjects和objects"
   ]
  },
  {
   "cell_type": "code",
   "execution_count": 6,
   "metadata": {},
   "outputs": [
    {
     "data": {
      "text/plain": [
       "Graph(num_nodes=6, num_edges=5,\n",
       "      ndata_schemes={}\n",
       "      edata_schemes={})"
      ]
     },
     "execution_count": 6,
     "metadata": {},
     "output_type": "execute_result"
    }
   ],
   "source": [
    "g"
   ]
  },
  {
   "cell_type": "code",
   "execution_count": 8,
   "metadata": {},
   "outputs": [
    {
     "name": "stdout",
     "output_type": "stream",
     "text": [
      "(tensor([0, 0, 0, 0, 0]), tensor([1, 2, 3, 4, 5]))\n"
     ]
    }
   ],
   "source": [
    "print(g.edges())"
   ]
  },
  {
   "cell_type": "markdown",
   "metadata": {},
   "source": [
    "* Attention\n",
    "* If you want to **handle undirected graphs**, you may consider **treating it as a bidirectional graph**, and you can see **Graph Transformations** for an example of making a bidirectuibak graph"
   ]
  },
  {
   "cell_type": "markdown",
   "metadata": {},
   "source": [
    "#### Assigning Node and Edge Features to Graph\n",
    "* 为我们创建的图添加特征属性\n",
    "* DGLGraph only accepts **attributes stored in tensors(with numerical contents)**. Consenquently, an attribute of **all the nodes or edges must have the same shape**. In the context of DL, those attributes are offen called features.\n",
    "* 图的属性必须用tensors类型数据进行赋值，节点和边的特征维度必须相同"
   ]
  },
  {
   "cell_type": "code",
   "execution_count": 10,
   "metadata": {},
   "outputs": [],
   "source": [
    "# Assign a 3-dim node feature vector for each node\n",
    "g.ndata['x'] = torch.randn(6, 3)\n",
    "# Assign a 4-dim edge feature vector for each edge\n",
    "g.edata['a'] = torch.randn(5, 4)\n",
    "# Assign a 5*4 node feature matrix for each node, node and edge features in DGL can be multi-dim\n",
    "g.ndata['y'] = torch.randn(6, 5, 4)"
   ]
  },
  {
   "cell_type": "code",
   "execution_count": 15,
   "metadata": {},
   "outputs": [
    {
     "name": "stdout",
     "output_type": "stream",
     "text": [
      "tensor([[ 0.3728, -0.6051, -0.1773,  0.3692],\n",
      "        [-1.9710, -1.6117,  0.4212, -1.0328],\n",
      "        [ 2.4561, -2.6404,  0.5772,  0.3688],\n",
      "        [ 0.7520,  0.1186,  0.1175,  0.0425],\n",
      "        [ 0.6102, -0.4714,  1.3186,  0.3512]])\n"
     ]
    }
   ],
   "source": [
    "print(g.edata['a'])"
   ]
  },
  {
   "cell_type": "markdown",
   "metadata": {},
   "source": [
    "* Attention\n",
    "* There are many ways to encode various types of attributes into numerical features in DeepLearning.\n",
    "   1. For **categorical attributes**(e.g. gender, occupation), consider converting them to **integers or one-hot encoding**.\n",
    "   2. For **variable length string contents**(e.g. news, article, quote), consider applying **a language model**.\n",
    "   3. For images, consider applying a **vision model such CNNs**."
   ]
  },
  {
   "cell_type": "markdown",
   "metadata": {},
   "source": [
    "#### Querying Graph Structures"
   ]
  },
  {
   "cell_type": "code",
   "execution_count": 17,
   "metadata": {},
   "outputs": [
    {
     "data": {
      "text/plain": [
       "Graph(num_nodes=6, num_edges=5,\n",
       "      ndata_schemes={'x': Scheme(shape=(3,), dtype=torch.float32), 'y': Scheme(shape=(5, 4), dtype=torch.float32)}\n",
       "      edata_schemes={'a': Scheme(shape=(4,), dtype=torch.float32)})"
      ]
     },
     "execution_count": 17,
     "metadata": {},
     "output_type": "execute_result"
    }
   ],
   "source": [
    "g"
   ]
  },
  {
   "cell_type": "code",
   "execution_count": 21,
   "metadata": {},
   "outputs": [
    {
     "name": "stdout",
     "output_type": "stream",
     "text": [
      "6\n",
      "5\n",
      "5\n"
     ]
    }
   ],
   "source": [
    "print(g.num_nodes())\n",
    "print(g.num_edges())\n",
    "print(g.out_degree(0))"
   ]
  },
  {
   "cell_type": "markdown",
   "metadata": {},
   "source": [
    "#### Graph Transformations\n",
    "* DGL provides many APIs to transform a graph to another such as **extracting a subgraph**."
   ]
  },
  {
   "cell_type": "code",
   "execution_count": 30,
   "metadata": {},
   "outputs": [
    {
     "name": "stdout",
     "output_type": "stream",
     "text": [
      "<bound method DGLHeteroGraph.num_nodes of Graph(num_nodes=6, num_edges=5,\n",
      "      ndata_schemes={'x': Scheme(shape=(3,), dtype=torch.float32), 'y': Scheme(shape=(5, 4), dtype=torch.float32)}\n",
      "      edata_schemes={'a': Scheme(shape=(4,), dtype=torch.float32)})>\n"
     ]
    }
   ],
   "source": [
    "print(g.num_nodes)\n",
    "# Induce a subgraph from node 0,1,3 from the original grpah\n",
    "sg1 = g.subgraph([0, 1, 3])\n",
    "# Induce a subgrah from edge 0,1,3 from the original graph\n",
    "sg2 = g.edge_subgraph([0, 1, 3])"
   ]
  },
  {
   "cell_type": "markdown",
   "metadata": {},
   "source": [
    "#### Loading and Saving Graphs\n",
    "* You can save a graph or a list of graphs via dgl.save_graphs and load them back with dgl.load_graphs"
   ]
  },
  {
   "cell_type": "code",
   "execution_count": 31,
   "metadata": {},
   "outputs": [],
   "source": [
    "dgl.save_graphs('graph.dgl', g)\n",
    "dgl.save_graphs('graphs.dgl', [g, sg1, sg2])\n"
   ]
  },
  {
   "cell_type": "code",
   "execution_count": 32,
   "metadata": {},
   "outputs": [
    {
     "name": "stdout",
     "output_type": "stream",
     "text": [
      "Graph(num_nodes=6, num_edges=5,\n",
      "      ndata_schemes={'y': Scheme(shape=(5, 4), dtype=torch.float32), 'x': Scheme(shape=(3,), dtype=torch.float32)}\n",
      "      edata_schemes={'a': Scheme(shape=(4,), dtype=torch.float32)})\n",
      "Graph(num_nodes=6, num_edges=5,\n",
      "      ndata_schemes={'y': Scheme(shape=(5, 4), dtype=torch.float32), 'x': Scheme(shape=(3,), dtype=torch.float32)}\n",
      "      edata_schemes={'a': Scheme(shape=(4,), dtype=torch.float32)})\n",
      "Graph(num_nodes=3, num_edges=2,\n",
      "      ndata_schemes={'_ID': Scheme(shape=(), dtype=torch.int64), 'x': Scheme(shape=(3,), dtype=torch.float32), 'y': Scheme(shape=(5, 4), dtype=torch.float32)}\n",
      "      edata_schemes={'_ID': Scheme(shape=(), dtype=torch.int64), 'a': Scheme(shape=(4,), dtype=torch.float32)})\n",
      "Graph(num_nodes=4, num_edges=3,\n",
      "      ndata_schemes={'_ID': Scheme(shape=(), dtype=torch.int64), 'x': Scheme(shape=(3,), dtype=torch.float32), 'y': Scheme(shape=(5, 4), dtype=torch.float32)}\n",
      "      edata_schemes={'_ID': Scheme(shape=(), dtype=torch.int64), 'a': Scheme(shape=(4,), dtype=torch.float32)})\n"
     ]
    }
   ],
   "source": [
    "# Load graphs\n",
    "(g,), _ = dgl.load_graphs('graph.dgl')\n",
    "print(g)\n",
    "(g, sg1, sg2), _ = dgl.load_graphs('graphs.dgl')\n",
    "print(g)\n",
    "print(sg1)\n",
    "print(sg2)"
   ]
  },
  {
   "cell_type": "code",
   "execution_count": null,
   "metadata": {},
   "outputs": [],
   "source": []
  }
 ],
 "metadata": {
  "interpreter": {
   "hash": "a401e76bd4566b2eeae2d0101f096ff3c65dea3a493d427d71e4f6944057105a"
  },
  "kernelspec": {
   "display_name": "Python 3.8.11 ('xmz')",
   "language": "python",
   "name": "python3"
  },
  "language_info": {
   "codemirror_mode": {
    "name": "ipython",
    "version": 3
   },
   "file_extension": ".py",
   "mimetype": "text/x-python",
   "name": "python",
   "nbconvert_exporter": "python",
   "pygments_lexer": "ipython3",
   "version": "3.8.11"
  },
  "orig_nbformat": 4
 },
 "nbformat": 4,
 "nbformat_minor": 2
}
